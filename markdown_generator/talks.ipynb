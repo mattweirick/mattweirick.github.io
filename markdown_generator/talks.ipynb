{
 "cells": [
  {
   "cell_type": "markdown",
   "metadata": {},
   "source": [
    "# Talks markdown generator for academicpages\n",
    "\n",
    "Takes a TSV of talks with metadata and converts them for use with [academicpages.github.io](academicpages.github.io). This is an interactive Jupyter notebook ([see more info here](http://jupyter-notebook-beginner-guide.readthedocs.io/en/latest/what_is_jupyter.html)). The core python code is also in `talks.py`. Run either from the `markdown_generator` folder after replacing `talks.tsv` with one containing your data.\n",
    "\n",
    "TODO: Make this work with BibTex and other databases, rather than Stuart's non-standard TSV format and citation style."
   ]
  },
  {
   "cell_type": "code",
   "execution_count": 11,
   "metadata": {},
   "outputs": [],
   "source": [
    "import pandas as pd\n",
    "import os"
   ]
  },
  {
   "cell_type": "markdown",
   "metadata": {},
   "source": [
    "## Data format\n",
    "\n",
    "The TSV needs to have the following columns: title, type, url_slug, venue, date, location, talk_url, description, with a header at the top. Many of these fields can be blank, but the columns must be in the TSV.\n",
    "\n",
    "- Fields that cannot be blank: `title`, `url_slug`, `date`. All else can be blank. `type` defaults to \"Talk\" \n",
    "- `date` must be formatted as YYYY-MM-DD.\n",
    "- `url_slug` will be the descriptive part of the .md file and the permalink URL for the page about the paper. \n",
    "    - The .md file will be `YYYY-MM-DD-[url_slug].md` and the permalink will be `https://[yourdomain]/talks/YYYY-MM-DD-[url_slug]`\n",
    "    - The combination of `url_slug` and `date` must be unique, as it will be the basis for your filenames\n",
    "\n",
    "This is how the raw file looks (it doesn't look pretty, use a spreadsheet or other program to edit and create)."
   ]
  },
  {
   "cell_type": "code",
   "execution_count": 12,
   "metadata": {},
   "outputs": [
    {
     "name": "stdout",
     "output_type": "stream",
     "text": [
      "\ttitle\ttype\turl_slug\tvenue\tdate\tlocation\ttalk_url\tdescription\r",
      "\r\n",
      "0\tDon Juan in Love (and Lust)\tconference presentation\tdon-juan-love-lust\tMessolonghi Byron Society&apos;s 10th Annual International Student Byron Conference\t2015-05-23\t\"Messolonghi, GR\"\thttps://www.messolonghibyronsociety.gr/index.php/en/10th-student-byron-conference/203.html\r",
      "\r\n",
      "1\tThe Writing Partners Program: A Case Study of ELL Students and Beginning Coaches\tconference panel\twriting-partners\tInternational Writing Centers Association Conference\t2015-10-09\t\"Pittsburgh, PA\"\thttps://academic.mattweirick.com/files/2015-10-09-writing-partners.pdf\t\"In a 1990 Writing Center Journal piece, Muriel Harris paused over the term &quot;writing center,&quot; wondering if we even know what a writing center actually is given that centers have evolved in very different institutions to serve different needs at different time periods in our history. Twenty-five years later, this pan-el asks much the same question: Who Do We Think We Are? That is, what is a writing center to those students and faculty who use it, to administrations that hire personnel and create job descriptions, and even to Writing Studies as that discipline has changed over time. Currently, for example, Writing Studies encompasses fields as varied as Writing in the Disciplines and translingual or global language theories. In addition, though many writing centers continue to be housed in English departments, the field is witnessing a growing trend to place one-on-one writing instruction in academic support centers, disci-pline-specific centers, and learning commons. The question, then, of who we think we are is wrapped up in its corollary question: Who do others think we are? Or, to recall what is a perennial writing center question: What do they (our students, our faculty, our institutions) think we do? In an effort to address those questions, this panel reports on four different but related studies.\"\r",
      "\r\n",
      "2\t\"Committed to Write: Writing Centers, Libraries, & Prisons in Collaboration\"\tconference presentation\twriting-centers-libraries-prisons\tInternational Writing Centers Association Conference\t2016-10-14\t\"Denver, CO\"\t\t\r",
      "\r\n",
      "3\tA Trans Body of Books: (Trans)forming Library Collections for Advocacy\tconference proceeding\ttrans-collections\tAssociation of College & Research Libraries Conference\t2017-03-23\t\"Baltmore, MD\"\thttp://www.ala.org/acrl/sites/ala.org.acrl/files/content/conferences/confsandpreconfs/2017/ATransBodyofBooks.pdf\tThis project attempts to quantify and understand how university libraries are using their collections to represent transgender studies and transgender individuals. The ultimate goal is to determine how effectively trans people and practices are included within the knowledge base of the library.\r",
      "\r\n",
      "4\tWho Knows What&apos;s Good? Biopolitics, the State, and Health Information Access\tconference panel\tbiopolitics-health-info\tSILS Symposium on Information for Social Good\t2017-04-21\t\"Chapel Hill, NC\"\thttp://info4socialgood.web.unc.edu/schedule/\t\"Focusing on the intersections of health, medical practices, information, and ethics, our panel will discuss the biopolitical mediation between ourselves and propositional wellness. Popularized by Michel Foucault, biopolitics refers to the disciplinary practices targeting governed bodies that control the modes of life. We will interrogate current ethical dilemmas in respect to the withholding of medical intervention for trans youth, reproductive health and care, medical information in prisons, and the legality of advertisements for mental health medications.\"\r",
      "\r\n",
      "5\tLearning from the Library: Information Worlds & Information Poverty\tconference presentation\twriting-centers-information-behavior\tInternational Writing Centers Association Conference\t2017-11-12\t\"Chicago, IL\"\t\t\r",
      "\r\n",
      "6\tToxic Librarianship: An Exploration of Waste and Masculinity (Is That Redundant?) in Libraries\tconference panel\ttoxic-librarianship\tSILS Symposium on Information for Social Good\t2018-04-13\t\"Chapel Hill, NC\"\thttp://info4socialgood2018.web.unc.edu/panel-scheduleabstracts/\t\"Libraries and communities nationwide are plagued by issues of toxicity. In this panel we will examine two widely distinct forms of toxicity that affect us as a society and as information professionals: waste and masculinity The first presentation, on toxic waste, will discuss the intentional poisoning of marginalized communities by industrial polluters and will present library centric solutions to providing information and legal assistance to those affected. While the second presentation will discuss toxic masculinity in libraries through various theories, including masculine overcompensation theory, theories of horizontal sex segregation, organizational theories, and theories of care work (such as devaluation).\"\r",
      "\r\n",
      "7\t&quot;Not playing that game&quot;: An Exploratory Study of Queer Men&apos;s Health Information Behavior on Location-Aware Dating and Sex-Seeking Mobile Applications\tposter\tproject-fair\tSILS Project Fair\t2018-04-13\t\"Chapel Hill, NC\"\thttps://academic.mattweirick.com/files/matthewjohnson.silsfairposter.pdf"
     ]
    }
   ],
   "source": [
    "!cat talks.tsv"
   ]
  },
  {
   "cell_type": "markdown",
   "metadata": {},
   "source": [
    "## Import TSV\n",
    "\n",
    "Pandas makes this easy with the read_csv function. We are using a TSV, so we specify the separator as a tab, or `\\t`.\n",
    "\n",
    "I found it important to put this data in a tab-separated values format, because there are a lot of commas in this kind of data and comma-separated values can get messed up. However, you can modify the import statement, as pandas also has read_excel(), read_json(), and others."
   ]
  },
  {
   "cell_type": "code",
   "execution_count": 13,
   "metadata": {},
   "outputs": [
    {
     "data": {
      "text/html": [
       "<div>\n",
       "<style scoped>\n",
       "    .dataframe tbody tr th:only-of-type {\n",
       "        vertical-align: middle;\n",
       "    }\n",
       "\n",
       "    .dataframe tbody tr th {\n",
       "        vertical-align: top;\n",
       "    }\n",
       "\n",
       "    .dataframe thead th {\n",
       "        text-align: right;\n",
       "    }\n",
       "</style>\n",
       "<table border=\"1\" class=\"dataframe\">\n",
       "  <thead>\n",
       "    <tr style=\"text-align: right;\">\n",
       "      <th></th>\n",
       "      <th>Unnamed: 0</th>\n",
       "      <th>title</th>\n",
       "      <th>type</th>\n",
       "      <th>url_slug</th>\n",
       "      <th>venue</th>\n",
       "      <th>date</th>\n",
       "      <th>location</th>\n",
       "      <th>talk_url</th>\n",
       "      <th>description</th>\n",
       "    </tr>\n",
       "  </thead>\n",
       "  <tbody>\n",
       "    <tr>\n",
       "      <th>0</th>\n",
       "      <td>0</td>\n",
       "      <td>Don Juan in Love (and Lust)</td>\n",
       "      <td>conference presentation</td>\n",
       "      <td>don-juan-love-lust</td>\n",
       "      <td>Messolonghi Byron Society&amp;apos;s 10th Annual I...</td>\n",
       "      <td>2015-05-23</td>\n",
       "      <td>Messolonghi, GR</td>\n",
       "      <td>https://www.messolonghibyronsociety.gr/index.p...</td>\n",
       "      <td>NaN</td>\n",
       "    </tr>\n",
       "    <tr>\n",
       "      <th>1</th>\n",
       "      <td>1</td>\n",
       "      <td>The Writing Partners Program: A Case Study of ...</td>\n",
       "      <td>conference panel</td>\n",
       "      <td>writing-partners</td>\n",
       "      <td>International Writing Centers Association Conf...</td>\n",
       "      <td>2015-10-09</td>\n",
       "      <td>Pittsburgh, PA</td>\n",
       "      <td>https://academic.mattweirick.com/files/2015-10...</td>\n",
       "      <td>In a 1990 Writing Center Journal piece, Muriel...</td>\n",
       "    </tr>\n",
       "    <tr>\n",
       "      <th>2</th>\n",
       "      <td>2</td>\n",
       "      <td>Committed to Write: Writing Centers, Libraries...</td>\n",
       "      <td>conference presentation</td>\n",
       "      <td>writing-centers-libraries-prisons</td>\n",
       "      <td>International Writing Centers Association Conf...</td>\n",
       "      <td>2016-10-14</td>\n",
       "      <td>Denver, CO</td>\n",
       "      <td>NaN</td>\n",
       "      <td>NaN</td>\n",
       "    </tr>\n",
       "    <tr>\n",
       "      <th>3</th>\n",
       "      <td>3</td>\n",
       "      <td>A Trans Body of Books: (Trans)forming Library ...</td>\n",
       "      <td>conference proceeding</td>\n",
       "      <td>trans-collections</td>\n",
       "      <td>Association of College &amp; Research Libraries Co...</td>\n",
       "      <td>2017-03-23</td>\n",
       "      <td>Baltmore, MD</td>\n",
       "      <td>http://www.ala.org/acrl/sites/ala.org.acrl/fil...</td>\n",
       "      <td>This project attempts to quantify and understa...</td>\n",
       "    </tr>\n",
       "    <tr>\n",
       "      <th>4</th>\n",
       "      <td>4</td>\n",
       "      <td>Who Knows What&amp;apos;s Good? Biopolitics, the S...</td>\n",
       "      <td>conference panel</td>\n",
       "      <td>biopolitics-health-info</td>\n",
       "      <td>SILS Symposium on Information for Social Good</td>\n",
       "      <td>2017-04-21</td>\n",
       "      <td>Chapel Hill, NC</td>\n",
       "      <td>http://info4socialgood.web.unc.edu/schedule/</td>\n",
       "      <td>Focusing on the intersections of health, medic...</td>\n",
       "    </tr>\n",
       "    <tr>\n",
       "      <th>5</th>\n",
       "      <td>5</td>\n",
       "      <td>Learning from the Library: Information Worlds ...</td>\n",
       "      <td>conference presentation</td>\n",
       "      <td>writing-centers-information-behavior</td>\n",
       "      <td>International Writing Centers Association Conf...</td>\n",
       "      <td>2017-11-12</td>\n",
       "      <td>Chicago, IL</td>\n",
       "      <td>NaN</td>\n",
       "      <td>NaN</td>\n",
       "    </tr>\n",
       "    <tr>\n",
       "      <th>6</th>\n",
       "      <td>6</td>\n",
       "      <td>Toxic Librarianship: An Exploration of Waste a...</td>\n",
       "      <td>conference panel</td>\n",
       "      <td>toxic-librarianship</td>\n",
       "      <td>SILS Symposium on Information for Social Good</td>\n",
       "      <td>2018-04-13</td>\n",
       "      <td>Chapel Hill, NC</td>\n",
       "      <td>http://info4socialgood2018.web.unc.edu/panel-s...</td>\n",
       "      <td>Libraries and communities nationwide are plagu...</td>\n",
       "    </tr>\n",
       "    <tr>\n",
       "      <th>7</th>\n",
       "      <td>7</td>\n",
       "      <td>&amp;quot;Not playing that game&amp;quot;: An Explorat...</td>\n",
       "      <td>poster</td>\n",
       "      <td>project-fair</td>\n",
       "      <td>SILS Project Fair</td>\n",
       "      <td>2018-04-13</td>\n",
       "      <td>Chapel Hill, NC</td>\n",
       "      <td>https://academic.mattweirick.com/files/matthew...</td>\n",
       "      <td>NaN</td>\n",
       "    </tr>\n",
       "  </tbody>\n",
       "</table>\n",
       "</div>"
      ],
      "text/plain": [
       "   Unnamed: 0                                              title  \\\n",
       "0           0                        Don Juan in Love (and Lust)   \n",
       "1           1  The Writing Partners Program: A Case Study of ...   \n",
       "2           2  Committed to Write: Writing Centers, Libraries...   \n",
       "3           3  A Trans Body of Books: (Trans)forming Library ...   \n",
       "4           4  Who Knows What&apos;s Good? Biopolitics, the S...   \n",
       "5           5  Learning from the Library: Information Worlds ...   \n",
       "6           6  Toxic Librarianship: An Exploration of Waste a...   \n",
       "7           7  &quot;Not playing that game&quot;: An Explorat...   \n",
       "\n",
       "                      type                              url_slug  \\\n",
       "0  conference presentation                    don-juan-love-lust   \n",
       "1         conference panel                      writing-partners   \n",
       "2  conference presentation     writing-centers-libraries-prisons   \n",
       "3    conference proceeding                     trans-collections   \n",
       "4         conference panel               biopolitics-health-info   \n",
       "5  conference presentation  writing-centers-information-behavior   \n",
       "6         conference panel                   toxic-librarianship   \n",
       "7                   poster                          project-fair   \n",
       "\n",
       "                                               venue        date  \\\n",
       "0  Messolonghi Byron Society&apos;s 10th Annual I...  2015-05-23   \n",
       "1  International Writing Centers Association Conf...  2015-10-09   \n",
       "2  International Writing Centers Association Conf...  2016-10-14   \n",
       "3  Association of College & Research Libraries Co...  2017-03-23   \n",
       "4      SILS Symposium on Information for Social Good  2017-04-21   \n",
       "5  International Writing Centers Association Conf...  2017-11-12   \n",
       "6      SILS Symposium on Information for Social Good  2018-04-13   \n",
       "7                                  SILS Project Fair  2018-04-13   \n",
       "\n",
       "          location                                           talk_url  \\\n",
       "0  Messolonghi, GR  https://www.messolonghibyronsociety.gr/index.p...   \n",
       "1   Pittsburgh, PA  https://academic.mattweirick.com/files/2015-10...   \n",
       "2       Denver, CO                                                NaN   \n",
       "3     Baltmore, MD  http://www.ala.org/acrl/sites/ala.org.acrl/fil...   \n",
       "4  Chapel Hill, NC       http://info4socialgood.web.unc.edu/schedule/   \n",
       "5      Chicago, IL                                                NaN   \n",
       "6  Chapel Hill, NC  http://info4socialgood2018.web.unc.edu/panel-s...   \n",
       "7  Chapel Hill, NC  https://academic.mattweirick.com/files/matthew...   \n",
       "\n",
       "                                         description  \n",
       "0                                                NaN  \n",
       "1  In a 1990 Writing Center Journal piece, Muriel...  \n",
       "2                                                NaN  \n",
       "3  This project attempts to quantify and understa...  \n",
       "4  Focusing on the intersections of health, medic...  \n",
       "5                                                NaN  \n",
       "6  Libraries and communities nationwide are plagu...  \n",
       "7                                                NaN  "
      ]
     },
     "execution_count": 13,
     "metadata": {},
     "output_type": "execute_result"
    }
   ],
   "source": [
    "talks = pd.read_csv(\"talks.tsv\", sep=\"\\t\", header=0)\n",
    "talks"
   ]
  },
  {
   "cell_type": "markdown",
   "metadata": {},
   "source": [
    "## Escape special characters\n",
    "\n",
    "YAML is very picky about how it takes a valid string, so we are replacing single and double quotes (and ampersands) with their HTML encoded equivilents. This makes them look not so readable in raw format, but they are parsed and rendered nicely."
   ]
  },
  {
   "cell_type": "code",
   "execution_count": 14,
   "metadata": {},
   "outputs": [],
   "source": [
    "html_escape_table = {\n",
    "    \"&\": \"&amp;\",\n",
    "    '\"': \"&quot;\",\n",
    "    \"'\": \"&apos;\"\n",
    "    }\n",
    "\n",
    "def html_escape(text):\n",
    "    if type(text) is str:\n",
    "        return \"\".join(html_escape_table.get(c,c) for c in text)\n",
    "    else:\n",
    "        return \"False\""
   ]
  },
  {
   "cell_type": "markdown",
   "metadata": {},
   "source": [
    "## Creating the markdown files\n",
    "\n",
    "This is where the heavy lifting is done. This loops through all the rows in the TSV dataframe, then starts to concatentate a big string (```md```) that contains the markdown for each type. It does the YAML metadata first, then does the description for the individual page."
   ]
  },
  {
   "cell_type": "code",
   "execution_count": 15,
   "metadata": {},
   "outputs": [],
   "source": [
    "loc_dict = {}\n",
    "\n",
    "for row, item in talks.iterrows():\n",
    "    \n",
    "    md_filename = str(item.date) + \"-\" + item.url_slug + \".md\"\n",
    "    html_filename = str(item.date) + \"-\" + item.url_slug \n",
    "    year = item.date[:4]\n",
    "    \n",
    "    md = \"---\\ntitle: \\\"\"   + item.title + '\"\\n'\n",
    "    md += \"collection: talks\" + \"\\n\"\n",
    "    \n",
    "    if len(str(item.type)) > 3:\n",
    "        md += 'type: \"' + item.type + '\"\\n'\n",
    "    else:\n",
    "        md += 'type: \"Talk\"\\n'\n",
    "    \n",
    "    md += \"permalink: /talks/\" + html_filename + \"\\n\"\n",
    "    \n",
    "    if len(str(item.venue)) > 3:\n",
    "        md += 'venue: \"' + item.venue + '\"\\n'\n",
    "        \n",
    "    if len(str(item.location)) > 3:\n",
    "        md += \"date: \" + str(item.date) + \"\\n\"\n",
    "    \n",
    "    if len(str(item.location)) > 3:\n",
    "        md += 'location: \"' + str(item.location) + '\"\\n'\n",
    "           \n",
    "    md += \"---\\n\"\n",
    "    \n",
    "    \n",
    "    if len(str(item.talk_url)) > 3:\n",
    "        md += \"\\n[More information here](\" + item.talk_url + \")\\n\" \n",
    "        \n",
    "    \n",
    "    if len(str(item.description)) > 3:\n",
    "        md += \"\\n\" + html_escape(item.description) + \"\\n\"\n",
    "        \n",
    "        \n",
    "    md_filename = os.path.basename(md_filename)\n",
    "    #print(md)\n",
    "    \n",
    "    with open(\"../_talks/\" + md_filename, 'w') as f:\n",
    "        f.write(md)"
   ]
  },
  {
   "cell_type": "markdown",
   "metadata": {},
   "source": [
    "These files are in the talks directory, one directory below where we're working from."
   ]
  },
  {
   "cell_type": "code",
   "execution_count": 16,
   "metadata": {},
   "outputs": [
    {
     "name": "stdout",
     "output_type": "stream",
     "text": [
      "2012-03-01-talk-1.md\r\n",
      "2013-03-01-tutorial-1.md\r\n",
      "2014-02-01-talk-2.md\r\n",
      "2014-03-01-talk-3.md\r\n",
      "2015-05-23-don-juan-love-lust.md\r\n",
      "2015-10-09-writing-partners.md\r\n",
      "2016-10-14-writing-centers-libraries-prisons.md\r\n",
      "2017-03-23-trans-collections.md\r\n",
      "2017-04-21-biopolitics-health-info.md\r\n",
      "2017-11-12-writing-centers-information-behavior.md\r\n",
      "2018-04-13-project-fair.md\r\n",
      "2018-04-13-toxic-librarianship.md\r\n"
     ]
    }
   ],
   "source": [
    "!ls ../_talks"
   ]
  },
  {
   "cell_type": "code",
   "execution_count": 17,
   "metadata": {},
   "outputs": [
    {
     "name": "stdout",
     "output_type": "stream",
     "text": [
      "---\r\n",
      "title: \"Tutorial 1 on Relevant Topic in Your Field\"\r\n",
      "collection: talks\r\n",
      "type: \"Tutorial\"\r\n",
      "permalink: /talks/2013-03-01-tutorial-1\r\n",
      "venue: \"UC-Berkeley Institute for Testing Science\"\r\n",
      "date: 2013-03-01\r\n",
      "location: \"Berkeley CA, USA\"\r\n",
      "---\r\n",
      "\r\n",
      "[More information here](http://exampleurl.com)\r\n",
      "\r\n",
      "This is a description of your tutorial, note the different field in type. This is a markdown files that can be all markdown-ified like any other post. Yay markdown!\r\n"
     ]
    }
   ],
   "source": [
    "!cat ../_talks/2013-03-01-tutorial-1.md"
   ]
  },
  {
   "cell_type": "code",
   "execution_count": null,
   "metadata": {},
   "outputs": [],
   "source": []
  },
  {
   "cell_type": "code",
   "execution_count": null,
   "metadata": {},
   "outputs": [],
   "source": []
  }
 ],
 "metadata": {
  "kernelspec": {
   "display_name": "Python 3",
   "language": "python",
   "name": "python3"
  },
  "language_info": {
   "codemirror_mode": {
    "name": "ipython",
    "version": 3
   },
   "file_extension": ".py",
   "mimetype": "text/x-python",
   "name": "python",
   "nbconvert_exporter": "python",
   "pygments_lexer": "ipython3",
   "version": "3.6.5"
  }
 },
 "nbformat": 4,
 "nbformat_minor": 1
}
